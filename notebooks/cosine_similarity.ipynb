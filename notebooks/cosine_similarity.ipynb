# cosine_similarity.ipynb

import pandas as pd
from sklearn.metrics.pairwise import cosine_similarity
import seaborn as sns
import matplotlib.pyplot as plt

# 1️⃣ Load CSV
df = pd.read_csv("GSE307172_FPKM_anno.csv.gz", index_col=0)  # index_col=0 pone los genes como índice

# 2️⃣ Keep only expression columns
expression_cols = ["Con-1","Con-2","Con-3","Sh-1","Sh-2","Sh-3"]
expr_df = df[expression_cols]

# 3️⃣ Transpose so rows = samples, columns = genes
samples = expr_df.T

# 4️⃣ Compute cosine similarity
sim_matrix = cosine_similarity(samples)
sim_df = pd.DataFrame(sim_matrix, index=samples.index, columns=samples.index)

# 5️⃣ Plot heatmap
plt.figure(figsize=(6,5))
sns.heatmap(sim_df, annot=True, cmap="Blues", vmin=0, vmax=1)
plt.title("Cosine Similarity: PPM1G Knockdown vs Control")
plt.show()

