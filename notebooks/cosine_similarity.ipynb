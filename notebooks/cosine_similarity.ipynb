# cosine_similarity.ipynb

import pandas as pd
from sklearn.metrics.pairwise import cosine_similarity
import seaborn as sns
import matplotlib.pyplot as plt

# ---------------------------
# 1. Load gene expression data from CSV
# ---------------------------
df = pd.read_csv("expression_data.csv")  # file path
df.set_index("Gene", inplace=True)      # make genes the row index

# Transpose so rows = patients, columns = genes
samples = df.T

# ---------------------------
# 2. Compute cosine similarity
# ---------------------------
sim_matrix = cosine_similarity(samples)

# Put into DataFrame with patient names
sim_df = pd.DataFrame(sim_matrix, index=samples.index, columns=samples.index)

# ---------------------------
# 3. Visualize
# ---------------------------
plt.figure(figsize=(8,6))
sns.heatmap(sim_df, annot=True, cmap="Blues", vmin=0, vmax=1)
plt.title("Cosine Similarity of Gene Expression Profiles")
plt.show()
